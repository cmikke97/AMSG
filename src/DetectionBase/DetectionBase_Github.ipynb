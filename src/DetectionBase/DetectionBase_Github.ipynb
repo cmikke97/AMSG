{
  "nbformat": 4,
  "nbformat_minor": 0,
  "metadata": {
    "colab": {
      "name": "DetectionBase_Github.ipynb",
      "provenance": [],
      "collapsed_sections": [],
      "toc_visible": true,
      "authorship_tag": "ABX9TyMmzCXdEYp6uWPB9//4vm5I",
      "include_colab_link": true
    },
    "kernelspec": {
      "name": "python3",
      "display_name": "Python 3"
    },
    "language_info": {
      "name": "python"
    }
  },
  "cells": [
    {
      "cell_type": "markdown",
      "metadata": {
        "id": "view-in-github",
        "colab_type": "text"
      },
      "source": [
        "<a href=\"https://colab.research.google.com/github/cmikke97/Automatic-Malware-Signature-Generation/blob/main/src/DetectionBase/DetectionBase_Github.ipynb\" target=\"_parent\"><img src=\"https://colab.research.google.com/assets/colab-badge.svg\" alt=\"Open In Colab\"/></a>"
      ]
    },
    {
      "cell_type": "markdown",
      "metadata": {
        "id": "ZAa89ZXo9-on"
      },
      "source": [
        "# **Train and Evaluate ML detection model**"
      ]
    },
    {
      "cell_type": "markdown",
      "metadata": {
        "id": "nzcD7o_E99bO"
      },
      "source": [
        "(code available at https://github.com/cmikke97/Automatic-Malware-Signature-Generation)"
      ]
    },
    {
      "cell_type": "markdown",
      "metadata": {
        "id": "ClU1LKe2A57d"
      },
      "source": [
        "# **Needed packages**"
      ]
    },
    {
      "cell_type": "code",
      "metadata": {
        "id": "iQHUGxAvA30L"
      },
      "source": [
        "!pip install baker\n",
        "!pip install -U logzero"
      ],
      "execution_count": null,
      "outputs": []
    },
    {
      "cell_type": "markdown",
      "metadata": {
        "id": "wAuSv9yg7JZm"
      },
      "source": [
        "# **Set up Drive**"
      ]
    },
    {
      "cell_type": "code",
      "metadata": {
        "id": "WDKmP0RC7Pyh",
        "colab": {
          "base_uri": "https://localhost:8080/"
        },
        "outputId": "d9c140af-8b62-47a3-ee1f-05e383e0158b"
      },
      "source": [
        "from google.colab import drive\n",
        "\n",
        "# set path where to mount drive\n",
        "drive_path = \"/content/drive\"\n",
        "\n",
        "# mount drive\n",
        "drive.mount(drive_path)"
      ],
      "execution_count": null,
      "outputs": [
        {
          "output_type": "stream",
          "text": [
            "Mounted at /content/drive\n"
          ],
          "name": "stdout"
        }
      ]
    },
    {
      "cell_type": "markdown",
      "metadata": {
        "id": "KjoXL4yTtoaf"
      },
      "source": [
        "# **Clone git repository**"
      ]
    },
    {
      "cell_type": "code",
      "metadata": {
        "id": "larIRy-Qtov5",
        "colab": {
          "base_uri": "https://localhost:8080/"
        },
        "outputId": "be2d91a7-daa4-4dfc-91c7-09180b9f23ab"
      },
      "source": [
        "!git clone https://github.com/cmikke97/Automatic-Malware-Signature-Generation.git"
      ],
      "execution_count": null,
      "outputs": [
        {
          "output_type": "stream",
          "text": [
            "Cloning into 'Automatic-Malware-Signature-Generation'...\n",
            "remote: Enumerating objects: 229, done.\u001b[K\n",
            "remote: Counting objects: 100% (229/229), done.\u001b[K\n",
            "remote: Compressing objects: 100% (206/206), done.\u001b[K\n",
            "remote: Total 229 (delta 59), reused 0 (delta 0), pack-reused 0\u001b[K\n",
            "Receiving objects: 100% (229/229), 64.41 KiB | 5.86 MiB/s, done.\n",
            "Resolving deltas: 100% (59/59), done.\n"
          ],
          "name": "stdout"
        }
      ]
    },
    {
      "cell_type": "markdown",
      "metadata": {
        "id": "jDYdfgDHUzCL"
      },
      "source": [
        "# **Configuration**\n",
        "\n",
        "To change configuration change values in local copy of \"config.py\" located at \"/content/Automatic-Malware-Signature-Generation/src/DetectionBase/config.py\"."
      ]
    },
    {
      "cell_type": "markdown",
      "metadata": {
        "id": "C57HCdFmVT5M"
      },
      "source": [
        "# **Train Network**"
      ]
    },
    {
      "cell_type": "code",
      "metadata": {
        "id": "b4DqjR2d4Qzh"
      },
      "source": [
        "# for the number of configured runs\n",
        "for i in range(config.runs):\n",
        "    checkpoint_dir = checkpoint_dir + \"/\" + str(i)\n",
        "    remove_missing_features = drive_path + \"/MyDrive/thesis/Dataset/09-DEC-2020/processed-data/shas_missing_ember_features.json\"\n",
        "\n",
        "    # execute train.py script\n",
        "    !python train.py train_network --checkpoint_dir $checkpoint_dir --remove_missing_features $remove_missing_features"
      ],
      "execution_count": null,
      "outputs": []
    },
    {
      "cell_type": "markdown",
      "metadata": {
        "id": "WIfHj0MiVait"
      },
      "source": [
        "# **Evaluate Network**"
      ]
    },
    {
      "cell_type": "code",
      "metadata": {
        "id": "13gb_oga5Pmb"
      },
      "source": [
        "#instantiate results_files dictionary\n",
        "results_files = {}\n",
        "\n",
        "# for the number of configured runs\n",
        "for i in range(config.runs):\n",
        "    # add file path to results_files dictionary (used for plotting results)\n",
        "    results_files[\"run_id_\" + str(i)] = results_path + str(i) + \"/results.csv\";\n",
        "\n",
        "    results_dir = results_path + str(i)\n",
        "    checkpoint_file = checkpoint_dir + \"/\" + str(i) + \"/epoch_10.pt\"\n",
        "    remove_missing_features = drive_path + \"/MyDrive/thesis/Dataset/09-DEC-2020/processed-data/shas_missing_ember_features.json\"\n",
        "\n",
        "    # execute evaluate.py script\n",
        "    !python evaluate.py evaluate_network --results_dir $results_dir --checkpoint_file $checkpoint_file --remove_missing_features $remove_missing_features\n",
        "    \n",
        "# create and open the results.json file in write mode\n",
        "with open(results_path + \"results.json\", \"w\") as output_file:\n",
        "    # save results_files dictionary as a json file\n",
        "    json.dump(results_files, output_file)"
      ],
      "execution_count": null,
      "outputs": []
    },
    {
      "cell_type": "markdown",
      "metadata": {
        "id": "3nQYueE3Vg6M"
      },
      "source": [
        "# **Plot Results**"
      ]
    },
    {
      "cell_type": "code",
      "metadata": {
        "id": "iDrmsxic589d"
      },
      "source": [
        "# for the number of configured runs\n",
        "for i in range(config.runs):\n",
        "    results_file = results_path + str(i) + \"results.csv\"\n",
        "    output_filename = results_path + str(i) + \"results.png\"\n",
        "\n",
        "    # execute plot.py to plot per-tag results for the single run\n",
        "    !python plot.py plot_tag_result --results_file $results_file --output_filename $output_filename\n",
        "\n",
        "\n",
        "run_to_filename_json = results_path + \"results.json\"\n",
        "output_filename = results_path + \"results.png\"\n",
        "tag_to_plot = 'malware'\n",
        "\n",
        "# execute plot.py to plot the model results mean and confidence (at least 2 runs are needed)\n",
        "!python plot.py plot_roc_distribution_for_tag --run_to_filename_json $run_to_filename_json --output_filename $output_filename --tag_to_plot $tag_to_plot"
      ],
      "execution_count": null,
      "outputs": []
    }
  ]
}
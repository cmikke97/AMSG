{
  "nbformat": 4,
  "nbformat_minor": 0,
  "metadata": {
    "colab": {
      "name": "sorel20mDownloader_Github.ipynb",
      "provenance": [],
      "collapsed_sections": [],
      "toc_visible": true,
      "authorship_tag": "ABX9TyO7OzccyCsZVYGyJwYCyO1p",
      "include_colab_link": true
    },
    "kernelspec": {
      "name": "python3",
      "display_name": "Python 3"
    },
    "language_info": {
      "name": "python"
    }
  },
  "cells": [
    {
      "cell_type": "markdown",
      "metadata": {
        "id": "view-in-github",
        "colab_type": "text"
      },
      "source": [
        "<a href=\"https://colab.research.google.com/github/cmikke97/Automatic-Malware-Signature-Generation/blob/main/src/DatasetDownloader/sorel20mDownloader_Github.ipynb\" target=\"_parent\"><img src=\"https://colab.research.google.com/assets/colab-badge.svg\" alt=\"Open In Colab\"/></a>"
      ]
    },
    {
      "cell_type": "markdown",
      "metadata": {
        "id": "kwKT8Rr-jRDi"
      },
      "source": [
        "# **Download SOREL 20M dataset from AWS s3 bucket**"
      ]
    },
    {
      "cell_type": "markdown",
      "metadata": {
        "id": "z52c4E1t-lJn"
      },
      "source": [
        "## **Needed packages**"
      ]
    },
    {
      "cell_type": "code",
      "metadata": {
        "id": "TmAsI6TSjfUM"
      },
      "source": [
        "!pip install boto3\n",
        "!pip install baker"
      ],
      "execution_count": null,
      "outputs": []
    },
    {
      "cell_type": "markdown",
      "metadata": {
        "id": "FDSwqAuC_FE4"
      },
      "source": [
        "## **Set up Drive**"
      ]
    },
    {
      "cell_type": "code",
      "metadata": {
        "id": "R2OdUR2Aj9_t"
      },
      "source": [
        "from google.colab import drive\n",
        "\n",
        "# set path where to mount drive\n",
        "drive_path = \"/content/drive\"\n",
        "\n",
        "# mount drive\n",
        "drive.mount(drive_path)"
      ],
      "execution_count": null,
      "outputs": []
    },
    {
      "cell_type": "markdown",
      "metadata": {
        "id": "dOzHpCA8tuZm"
      },
      "source": [
        "## **Clone git repository**"
      ]
    },
    {
      "cell_type": "code",
      "metadata": {
        "id": "9tbUffHntuq4"
      },
      "source": [
        "!git clone https://github.com/cmikke97/Automatic-Malware-Signature-Generation.git"
      ],
      "execution_count": null,
      "outputs": []
    },
    {
      "cell_type": "markdown",
      "metadata": {
        "id": "y8kwveOt-YSh"
      },
      "source": [
        "## **Download SOREL20M dataset**\n",
        "(available at https://github.com/cmikke97/Automatic-Malware-Signature-Generation)"
      ]
    },
    {
      "cell_type": "code",
      "metadata": {
        "id": "d9inx1ll-WPh"
      },
      "source": [
        "# set destination dir\n",
        "destination_dir = drive_path + \"/MyDrive/thesis/Dataset/\"\n",
        "\n",
        "# execute downloader\n",
        "!python Automatic-Malware-Signature-Generation/DatasetDownloader/Sorel20mDownloader.py SOREL20M_Download $destination_dir"
      ],
      "execution_count": null,
      "outputs": []
    },
    {
      "cell_type": "markdown",
      "metadata": {
        "id": "fjFYtD62u9vo"
      },
      "source": [
        "## **Finalize drive**"
      ]
    },
    {
      "cell_type": "code",
      "metadata": {
        "id": "vmXIzHYRu2eJ"
      },
      "source": [
        "# flush Drive and unmount it (it may take long)\n",
        "drive.flush_and_unmount()"
      ],
      "execution_count": null,
      "outputs": []
    }
  ]
}
{
  "nbformat": 4,
  "nbformat_minor": 0,
  "metadata": {
    "colab": {
      "name": "sorel20mDownloader_Colab.ipynb",
      "provenance": [],
      "collapsed_sections": [],
      "authorship_tag": "ABX9TyNz57qMvDtMPBDJ96H/6Vn3",
      "include_colab_link": true
    },
    "kernelspec": {
      "name": "python3",
      "display_name": "Python 3"
    },
    "language_info": {
      "name": "python"
    }
  },
  "cells": [
    {
      "cell_type": "markdown",
      "metadata": {
        "id": "view-in-github",
        "colab_type": "text"
      },
      "source": [
        "<a href=\"https://colab.research.google.com/github/cmikke97/Automatic-Malware-Signature-Generation/blob/main/DatasetDownloader/sorel20mDownloader_Colab.ipynb\" target=\"_parent\"><img src=\"https://colab.research.google.com/assets/colab-badge.svg\" alt=\"Open In Colab\"/></a>"
      ]
    },
    {
      "cell_type": "markdown",
      "metadata": {
        "id": "kwKT8Rr-jRDi"
      },
      "source": [
        "# **Download SOREL 20M dataset from AWS s3 bucket**"
      ]
    },
    {
      "cell_type": "markdown",
      "metadata": {
        "id": "z52c4E1t-lJn"
      },
      "source": [
        "## **Needed packages**"
      ]
    },
    {
      "cell_type": "code",
      "metadata": {
        "id": "TmAsI6TSjfUM"
      },
      "source": [
        "!pip install boto3\n",
        "!pip install baker"
      ],
      "execution_count": null,
      "outputs": []
    },
    {
      "cell_type": "markdown",
      "metadata": {
        "id": "FDSwqAuC_FE4"
      },
      "source": [
        "## **Set up Drive**"
      ]
    },
    {
      "cell_type": "code",
      "metadata": {
        "id": "R2OdUR2Aj9_t"
      },
      "source": [
        "from google.colab import drive\n",
        "\n",
        "# set path where to mount drive\n",
        "drive_path = \"/content/drive\"\n",
        "\n",
        "# mount drive\n",
        "drive.mount(drive_path)\n",
        "\n",
        "# set destination dir\n",
        "destination_dir = drive_path + \"/MyDrive/thesis/Dataset/\""
      ],
      "execution_count": null,
      "outputs": []
    },
    {
      "cell_type": "markdown",
      "metadata": {
        "id": "jZmtB9UIAB3T"
      },
      "source": [
        "## **Download SOREL20M dataset**"
      ]
    },
    {
      "cell_type": "code",
      "metadata": {
        "id": "hwJm0BG7jK3W"
      },
      "source": [
        "import boto3  # Used to create, configure, and manage AWS services (s3 included)\n",
        "from botocore import UNSIGNED # constant to use to connect to s3 bucket anonymously (botocore is the Low-level, data-driven core of boto 3) \n",
        "from botocore.client import Config  # Advanced configuration for Botocore clients (botocore is the Low-level, data-driven core of boto 3)\n",
        "import os # Provides a portable way of using operating system dependent functionality\n",
        "import sys  # System-specific parameters and functions\n",
        "import threading  #  Constructs higher-level threading interfaces on top of the lower level _thread module\n",
        "from pathlib import Path  # offers classes representing filesystem paths with semantics appropriate for different operating systems\n",
        "import tqdm # Instantly makes loops show a smart progress meter\n",
        "\n",
        "\n",
        "class ProgressPercentage(object):\n",
        "    \"\"\"class used to dislpay a bar indicating download progress\"\"\"\n",
        "\n",
        "    def __init__(self,\n",
        "                 pbar): # tqdm progress bar already initialized\n",
        "\n",
        "        # set some attributes\n",
        "        self.pbar = pbar\n",
        "        self._lock = threading.Lock() # instantiate lock\n",
        "\n",
        "    def __call__(self,\n",
        "                 bytes_amount): # amount of bytes received\n",
        "\n",
        "        # acquire lock (for thread safety)\n",
        "        with self._lock:\n",
        "            # update tqdm progress bar with the bytes amount\n",
        "            self.pbar.update(bytes_amount)\n",
        "\n",
        "\n",
        "class BucketFileDownloader(object):\n",
        "    \"\"\"class used to download bucket files from an s3 bucket\"\"\"\n",
        "\n",
        "    def __init__(self,\n",
        "                 destination_dir, # path to the destination folder where to save the element to\n",
        "                 bucket_name):  # name of the s3 bucket where to find the element to download\n",
        "\n",
        "        # set some attributes\n",
        "        self._destination_dir = destination_dir\n",
        "        self._bucketName = bucket_name\n",
        "\n",
        "        # open boto3 client connection to the s3 bucket in anonymous mode\n",
        "        self._s3client = boto3.client('s3', \n",
        "                                      config = Config(signature_version = UNSIGNED))\n",
        "\n",
        "\n",
        "    def __call__(self,\n",
        "                 object_name):  # name (relative path wrt the s3 bucket) of the object to download\n",
        "\n",
        "        # generate destination path where to save the element to\n",
        "        dest_path = self._destination_dir + object_name\n",
        "\n",
        "        # create parent directory path if it does not exist (it succeeds even if the directory already exists)\n",
        "        os.makedirs(Path(dest_path).parent.absolute(), exist_ok=True)\n",
        "\n",
        "        # print info\n",
        "        print(\"Now downloading {} from s3 bucket..\".format(object_name))\n",
        "\n",
        "        # retrieve metadata from the s3 object without returning the object itself\n",
        "        response = self._s3client.head_object(Bucket = self._bucketName,\n",
        "                                              Key = object_name)\n",
        "        \n",
        "        # extract total object size info from the response header\n",
        "        size = response['ContentLength']\n",
        "\n",
        "        # instantiate tqdm progress bar\n",
        "        with tqdm.tqdm(total = size) as pbar:\n",
        "            # download object file using boto3 'download_file' method\n",
        "            # while passing it the ProgressPercentage as callback function\n",
        "            # -> its call method will be called intermittently passing it the amount of bytes received\n",
        "            self._s3client.download_file(self._bucketName,\n",
        "                                         object_name,\n",
        "                                         dest_path,\n",
        "                                         Callback = ProgressPercentage(pbar))\n",
        "\n",
        "\n",
        "def SOREL20M_Download(destination_dir): # path to the destination folder where to save the element to\n",
        "    \"\"\"Download SOREL20M dataset elements from the s3 socket and save them in the specified destination directory.\"\"\"\n",
        "\n",
        "    # set SOREL20M bucket name\n",
        "    bucket_name = \"sorel-20m\"\n",
        "    # set SOREL20M dataset elements to be downloaded\n",
        "    objects_to_download = [\"09-DEC-2020/processed-data/meta.db\",\n",
        "                           \"09-DEC-2020/processed-data/ember_features/lock.mdb\",\n",
        "                           \"09-DEC-2020/processed-data/ember_features/data.mdb\"]\n",
        "\n",
        "    # instantiate bucket file downloader setting the destination dir and bucket name\n",
        "    downloader = BucketFileDownloader(destination_dir, bucket_name)\n",
        "\n",
        "    # for all objects to download\n",
        "    for i, obj in enumerate(objects_to_download):\n",
        "        # download object (and save it in destination_dir)\n",
        "        downloader(obj)\n",
        "        # print info on std out\n",
        "        print(\"{}/{} done.\".format(i+1, len(objects_to_download)))\n",
        "\n",
        "\n",
        "# call SOREL20M_Download function\n",
        "SOREL20M_Download(destination_dir)"
      ],
      "execution_count": null,
      "outputs": []
    },
    {
      "cell_type": "markdown",
      "metadata": {
        "id": "fjFYtD62u9vo"
      },
      "source": [
        "## **Finalize drive**"
      ]
    },
    {
      "cell_type": "code",
      "metadata": {
        "id": "vmXIzHYRu2eJ"
      },
      "source": [
        "# flush Drive and unmount it (it may take long)\n",
        "drive.flush_and_unmount()"
      ],
      "execution_count": null,
      "outputs": []
    }
  ]
}

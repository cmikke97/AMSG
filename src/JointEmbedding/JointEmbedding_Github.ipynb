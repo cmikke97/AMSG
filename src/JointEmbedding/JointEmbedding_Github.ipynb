{
  "nbformat": 4,
  "nbformat_minor": 0,
  "metadata": {
    "colab": {
      "name": "JointEmbedding_Github.ipynb",
      "provenance": [],
      "collapsed_sections": [],
      "toc_visible": true,
      "machine_shape": "hm",
      "authorship_tag": "ABX9TyMTmwmsj2WsLVL9zXved20X",
      "include_colab_link": true
    },
    "kernelspec": {
      "name": "python3",
      "display_name": "Python 3"
    },
    "language_info": {
      "name": "python"
    },
    "accelerator": "GPU"
  },
  "cells": [
    {
      "cell_type": "markdown",
      "metadata": {
        "id": "view-in-github",
        "colab_type": "text"
      },
      "source": [
        "<a href=\"https://colab.research.google.com/github/cmikke97/Automatic-Malware-Signature-Generation/blob/main/src/JointEmbedding/JointEmbedding_Github.ipynb\" target=\"_parent\"><img src=\"https://colab.research.google.com/assets/colab-badge.svg\" alt=\"Open In Colab\"/></a>"
      ]
    },
    {
      "cell_type": "markdown",
      "metadata": {
        "id": "ZAa89ZXo9-on"
      },
      "source": [
        "# **Train and Evaluate Joint Embedding ML model**"
      ]
    },
    {
      "cell_type": "markdown",
      "metadata": {
        "id": "nzcD7o_E99bO"
      },
      "source": [
        "The code used in this Colab is available at https://github.com/cmikke97/Automatic-Malware-Signature-Generation"
      ]
    },
    {
      "cell_type": "markdown",
      "metadata": {
        "id": "2l_CZsDcZspG"
      },
      "source": [
        "## **Setup**"
      ]
    },
    {
      "cell_type": "markdown",
      "metadata": {
        "id": "ClU1LKe2A57d"
      },
      "source": [
        "### **Install needed packages**"
      ]
    },
    {
      "cell_type": "code",
      "metadata": {
        "id": "iQHUGxAvA30L"
      },
      "source": [
        "!pip install boto3\n",
        "!pip install baker\n",
        "!pip install -U logzero\n",
        "!pip install lmdb\n",
        "!pip install waiting\n",
        "!pip install --upgrade scikit-learn"
      ],
      "execution_count": null,
      "outputs": []
    },
    {
      "cell_type": "markdown",
      "metadata": {
        "id": "Cruu3f_SQjtk"
      },
      "source": [
        "### **Import modules**"
      ]
    },
    {
      "cell_type": "code",
      "metadata": {
        "id": "YsAwmerbQe0-"
      },
      "source": [
        "import json\n",
        "import os"
      ],
      "execution_count": null,
      "outputs": []
    },
    {
      "cell_type": "markdown",
      "metadata": {
        "id": "wAuSv9yg7JZm"
      },
      "source": [
        "### **Set up Drive**"
      ]
    },
    {
      "cell_type": "code",
      "metadata": {
        "id": "WDKmP0RC7Pyh"
      },
      "source": [
        "from google.colab import drive\n",
        "\n",
        "# set path where to mount drive\n",
        "drive_path = \"/content/drive\"\n",
        "\n",
        "# mount drive\n",
        "drive.mount(drive_path)"
      ],
      "execution_count": null,
      "outputs": []
    },
    {
      "cell_type": "markdown",
      "metadata": {
        "id": "KjoXL4yTtoaf"
      },
      "source": [
        "### **Clone git repository**"
      ]
    },
    {
      "cell_type": "code",
      "metadata": {
        "id": "s7JyAPR94N3h"
      },
      "source": [
        "# remove previously cloned (if present) git repository from local Colab instance\n",
        "!rm -r /content/Automatic-Malware-Signature-Generation"
      ],
      "execution_count": null,
      "outputs": []
    },
    {
      "cell_type": "code",
      "metadata": {
        "id": "larIRy-Qtov5"
      },
      "source": [
        "# clone code git repository onto the local Colab instance\n",
        "!git clone https://github.com/cmikke97/Automatic-Malware-Signature-Generation.git\n",
        "\n",
        "# set current working directory (needed for correctly importing tool modules)\n",
        "os.chdir(\"/content/Automatic-Malware-Signature-Generation/src/JointEmbedding\")"
      ],
      "execution_count": null,
      "outputs": []
    },
    {
      "cell_type": "markdown",
      "metadata": {
        "id": "yi0RGAqiQypa"
      },
      "source": [
        "### **Set Run variables**"
      ]
    },
    {
      "cell_type": "code",
      "metadata": {
        "id": "UhBr8Dz_Q2D8"
      },
      "source": [
        "import config\n",
        "from dataset import Dataset\n",
        "\n",
        "# set base path (if using google Drive)\n",
        "base_path = os.path.join(drive_path, \"MyDrive/thesis\")\n",
        "\n",
        "# set dataset destination dir\n",
        "dataset_dir = \"/content/Dataset\"\n",
        "\n",
        "# set checkpoint base dir\n",
        "checkpoint_base_dir = config.checkpoint_dir\n",
        "\n",
        "# set results base dir\n",
        "results_base_dir = config.results_dir\n",
        "\n",
        "# set number of times to run the model (for plotting results with mean and confidence)\n",
        "runs = 2"
      ],
      "execution_count": null,
      "outputs": []
    },
    {
      "cell_type": "markdown",
      "metadata": {
        "id": "Mync8kntvQ-y"
      },
      "source": [
        "### **Download SOREL20M dataset**"
      ]
    },
    {
      "cell_type": "code",
      "metadata": {
        "id": "K0luA_KOvNhH"
      },
      "source": [
        "# download SOREL 20M dataset onto the local Colab instance\n",
        "!python /content/Automatic-Malware-Signature-Generation/src/DatasetDownloader/sorel20mDownloader.py sorel20m_download $dataset_dir"
      ],
      "execution_count": null,
      "outputs": []
    },
    {
      "cell_type": "markdown",
      "metadata": {
        "id": "jDYdfgDHUzCL"
      },
      "source": [
        "### **Configuration**\n",
        "\n",
        "To change tool configuration change values in local copy of \"config.py\" located at \"/content/Automatic-Malware-Signature-Generation/src/JointEmbedding/config.py\"."
      ]
    },
    {
      "cell_type": "markdown",
      "metadata": {
        "id": "C57HCdFmVT5M"
      },
      "source": [
        "## **Train Network**"
      ]
    },
    {
      "cell_type": "code",
      "metadata": {
        "id": "b4DqjR2d4Qzh"
      },
      "source": [
        "# for the number of configured runs\n",
        "for i in range(runs):\n",
        "    checkpoint_dir = os.path.join(checkpoint_base_dir, str(i))\n",
        "    remove_missing_features = os.path.join(base_path, \"Dataset/09-DEC-2020/processed-data/shas_missing_ember_features.json\")\n",
        "    loss_history_filename = os.path.join(checkpoint_dir, \"loss_history.json\")\n",
        "\n",
        "    # execute train.py script\n",
        "    !python train.py train_network --checkpoint_dir $checkpoint_dir --remove_missing_features $remove_missing_features --loss_history_filename $loss_history_filename --use_malicious_labels --use_count_labels\n",
        "\n",
        "    # execute train.py script starting from saved model state at epoch 5\n",
        "    #!python train.py train_network --checkpoint_dir $checkpoint_dir --remove_missing_features $remove_missing_features --starting_from_epoch 5 --loss_history_filename $loss_history_filename --use_malicious_labels --use_count_labels"
      ],
      "execution_count": null,
      "outputs": []
    },
    {
      "cell_type": "markdown",
      "metadata": {
        "id": "WIfHj0MiVait"
      },
      "source": [
        "## **Evaluate Network**"
      ]
    },
    {
      "cell_type": "code",
      "metadata": {
        "id": "13gb_oga5Pmb"
      },
      "source": [
        "#instantiate results_files dictionary\n",
        "results_files = {}\n",
        "\n",
        "# for the number of configured runs\n",
        "for i in range(runs):\n",
        "    # add file path to results_files dictionary (used for plotting results)\n",
        "    results_files[\"run_id_\" + str(i)] = os.path.join(results_base_dir, str(i), \"results.csv\");\n",
        "\n",
        "    results_dir = os.path.join(results_base_dir, str(i))\n",
        "    checkpoint_file = os.path.join(checkpoint_base_dir, str(i), \"epoch_10.pt\")\n",
        "    remove_missing_features = os.path.join(base_path, \"Dataset/09-DEC-2020/processed-data/shas_missing_ember_features.json\")\n",
        "\n",
        "    # execute evaluate.py script\n",
        "    !python evaluate.py evaluate_network --results_dir $results_dir --checkpoint_file $checkpoint_file --remove_missing_features $remove_missing_features --evaluate_malware --evaluate_count\n",
        "    \n",
        "# create and open the results.json file in write mode\n",
        "with open(os.path.join(results_base_dir, \"results.json\"), \"w\") as output_file:\n",
        "    # save results_files dictionary as a json file\n",
        "    json.dump(results_files, output_file)"
      ],
      "execution_count": null,
      "outputs": []
    },
    {
      "cell_type": "markdown",
      "metadata": {
        "id": "oECq90RCZgZS"
      },
      "source": [
        "## **Compute and plot results**"
      ]
    },
    {
      "cell_type": "markdown",
      "metadata": {
        "id": "9Sea1ekxfMjn"
      },
      "source": [
        "### **Plot Training Loss trend**"
      ]
    },
    {
      "cell_type": "code",
      "metadata": {
        "id": "GxyagX0ffL3A"
      },
      "source": [
        "# for the number of configured runs\n",
        "for i in range(runs):\n",
        "    loss_history_path = os.path.join(checkpoint_base_dir, str(i), \"loss_history.json\")\n",
        "    output_filename = os.path.join(checkpoint_base_dir, str(i), \"loss_trend.png\")\n",
        "\n",
        "    # execute plot.py to plot the model mean loss trend\n",
        "    !python plots.py plot_loss_trend --loss_history_path $loss_history_path --output_filename $output_filename"
      ],
      "execution_count": null,
      "outputs": []
    },
    {
      "cell_type": "markdown",
      "metadata": {
        "id": "3nQYueE3Vg6M"
      },
      "source": [
        "### **Plot Results**"
      ]
    },
    {
      "cell_type": "code",
      "metadata": {
        "id": "iDrmsxic589d"
      },
      "source": [
        "# for the number of configured runs\n",
        "for i in range(runs):\n",
        "    results_file = os.path.join(results_base_dir, str(i), \"results.csv\")\n",
        "    output_filename = os.path.join(results_base_dir, str(i), \"results.png\")\n",
        "\n",
        "    # execute plot.py to plot per-tag results for the single run\n",
        "    !python plots.py plot_tag_result --results_file $results_file --output_filename $output_filename\n",
        "\n",
        "\n",
        "run_to_filename_json = os.path.join(results_base_dir, \"results.json\")\n",
        "output_filename = os.path.join(results_base_dir, \"results.png\")\n",
        "tag_to_plot = 'malware'\n",
        "\n",
        "# execute plot.py to plot the model results mean and confidence (at least 2 runs are needed)\n",
        "!python plots.py plot_roc_distribution_for_tag --run_to_filename_json $run_to_filename_json --output_filename $output_filename --tag_to_plot $tag_to_plot\n",
        "\n",
        "for tag in Dataset.tags:\n",
        "    output_filename = os.path.join(results_base_dir, tag + \"_tag_results.png\")\n",
        "    tag_to_plot = tag + \"_tag\"\n",
        "\n",
        "    # execute plot.py to plot the model results mean and confidence for the specified tag (at least 2 runs are needed)\n",
        "    !python plots.py plot_roc_distribution_for_tag --run_to_filename_json $run_to_filename_json --output_filename $output_filename --tag_to_plot $tag_to_plot --tag_to_plot $tag_to_plot"
      ],
      "execution_count": null,
      "outputs": []
    },
    {
      "cell_type": "markdown",
      "metadata": {
        "id": "bDAQQnmIQjrw"
      },
      "source": [
        "### **Compute scores**"
      ]
    },
    {
      "cell_type": "code",
      "metadata": {
        "id": "W7CfVYcrQij2"
      },
      "source": [
        "# for the number of configured runs\n",
        "for i in range(runs):\n",
        "    results_file = os.path.join(results_base_dir, str(i), \"results.csv\")\n",
        "\n",
        "    tag = \"malware\"\n",
        "    output_filename = os.path.join(results_base_dir, str(i), tag + \"_scores.csv\")\n",
        "\n",
        "    # execute plot.py to compute various scores for the specified tag\n",
        "    !python plots.py compute_scores --results_file $results_file --output_filename $output_filename --tag $tag\n",
        "\n",
        "    for tag in Dataset.tags:\n",
        "        tag = tag + \"_tag\"\n",
        "        output_filename = os.path.join(results_base_dir, str(i), tag + \"_scores.csv\")\n",
        "\n",
        "        # execute plot.py to compute various scores for the specified tag\n",
        "        !python plots.py compute_scores --results_file $results_file --output_filename $output_filename --tag $tag\n",
        "    \n",
        "    output_filename = os.path.join(results_base_dir, str(i), \"mean_per_sample_scores.csv\")\n",
        "\n",
        "    !python plots.py compute_jaccard_similarity_score --results_file $results_file --output_filename $output_filename"
      ],
      "execution_count": null,
      "outputs": []
    }
  ]
}
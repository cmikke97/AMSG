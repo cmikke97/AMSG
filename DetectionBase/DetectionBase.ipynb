{
  "nbformat": 4,
  "nbformat_minor": 0,
  "metadata": {
    "colab": {
      "name": "DetectionBase_Github.ipynb",
      "provenance": [],
      "collapsed_sections": [],
      "toc_visible": true,
      "machine_shape": "hm",
      "authorship_tag": "ABX9TyMRKn35p8nmZCKrLv/qr/0z",
      "include_colab_link": true
    },
    "kernelspec": {
      "name": "python3",
      "display_name": "Python 3"
    },
    "language_info": {
      "name": "python"
    },
    "accelerator": "GPU"
  },
  "cells": [
    {
      "cell_type": "markdown",
      "metadata": {
        "id": "view-in-github",
        "colab_type": "text"
      },
      "source": [
        "<a href=\"https://colab.research.google.com/github/cmikke97/Automatic-Malware-Signature-Generation/blob/main/src/DetectionBase/DetectionBase_Github.ipynb\" target=\"_parent\"><img src=\"https://colab.research.google.com/assets/colab-badge.svg\" alt=\"Open In Colab\"/></a>"
      ]
    },
    {
      "cell_type": "markdown",
      "metadata": {
        "id": "ZAa89ZXo9-on"
      },
      "source": [
        "# **Train and Evaluate ML detection model**"
      ]
    },
    {
      "cell_type": "markdown",
      "metadata": {
        "id": "nzcD7o_E99bO"
      },
      "source": [
        "(code available at https://github.com/cmikke97/Automatic-Malware-Signature-Generation)"
      ]
    },
    {
      "cell_type": "markdown",
      "metadata": {
        "id": "ClU1LKe2A57d"
      },
      "source": [
        "# **Needed packages**"
      ]
    },
    {
      "cell_type": "code",
      "metadata": {
        "id": "iQHUGxAvA30L",
        "colab": {
          "base_uri": "https://localhost:8080/"
        },
        "outputId": "29249f4e-a93e-4d5c-a715-4ec2c0c87e59"
      },
      "source": [
        "!pip install boto3\n",
        "!pip install baker\n",
        "!pip install -U logzero\n",
        "!pip install lmdb"
      ],
      "execution_count": null,
      "outputs": [
        {
          "output_type": "stream",
          "text": [
            "Collecting boto3\n",
            "\u001b[?25l  Downloading https://files.pythonhosted.org/packages/ea/10/a997a266165e2df1976c4fc973f71bcd2e65a255f92d0ff7ab59b2f81989/boto3-1.17.44-py2.py3-none-any.whl (131kB)\n",
            "\r\u001b[K     |██▌                             | 10kB 17.5MB/s eta 0:00:01\r\u001b[K     |█████                           | 20kB 23.8MB/s eta 0:00:01\r\u001b[K     |███████▌                        | 30kB 22.5MB/s eta 0:00:01\r\u001b[K     |██████████                      | 40kB 17.5MB/s eta 0:00:01\r\u001b[K     |████████████▌                   | 51kB 14.3MB/s eta 0:00:01\r\u001b[K     |███████████████                 | 61kB 13.7MB/s eta 0:00:01\r\u001b[K     |█████████████████▌              | 71kB 13.4MB/s eta 0:00:01\r\u001b[K     |████████████████████            | 81kB 14.2MB/s eta 0:00:01\r\u001b[K     |██████████████████████▌         | 92kB 15.5MB/s eta 0:00:01\r\u001b[K     |█████████████████████████       | 102kB 15.0MB/s eta 0:00:01\r\u001b[K     |███████████████████████████▍    | 112kB 15.0MB/s eta 0:00:01\r\u001b[K     |██████████████████████████████  | 122kB 15.0MB/s eta 0:00:01\r\u001b[K     |████████████████████████████████| 133kB 15.0MB/s \n",
            "\u001b[?25hCollecting jmespath<1.0.0,>=0.7.1\n",
            "  Downloading https://files.pythonhosted.org/packages/07/cb/5f001272b6faeb23c1c9e0acc04d48eaaf5c862c17709d20e3469c6e0139/jmespath-0.10.0-py2.py3-none-any.whl\n",
            "Collecting botocore<1.21.0,>=1.20.44\n",
            "\u001b[?25l  Downloading https://files.pythonhosted.org/packages/64/80/3ddbe4ad2561804b887deb8072d802dc24dd759833139a5b91efcff308d6/botocore-1.20.44-py2.py3-none-any.whl (7.4MB)\n",
            "\u001b[K     |████████████████████████████████| 7.4MB 25.7MB/s \n",
            "\u001b[?25hCollecting s3transfer<0.4.0,>=0.3.0\n",
            "\u001b[?25l  Downloading https://files.pythonhosted.org/packages/98/14/0b4be62b65c52d6d1c442f24e02d2a9889a73d3c352002e14c70f84a679f/s3transfer-0.3.6-py2.py3-none-any.whl (73kB)\n",
            "\u001b[K     |████████████████████████████████| 81kB 9.9MB/s \n",
            "\u001b[?25hRequirement already satisfied: python-dateutil<3.0.0,>=2.1 in /usr/local/lib/python3.7/dist-packages (from botocore<1.21.0,>=1.20.44->boto3) (2.8.1)\n",
            "Collecting urllib3<1.27,>=1.25.4\n",
            "\u001b[?25l  Downloading https://files.pythonhosted.org/packages/09/c6/d3e3abe5b4f4f16cf0dfc9240ab7ce10c2baa0e268989a4e3ec19e90c84e/urllib3-1.26.4-py2.py3-none-any.whl (153kB)\n",
            "\u001b[K     |████████████████████████████████| 153kB 64.5MB/s \n",
            "\u001b[?25hRequirement already satisfied: six>=1.5 in /usr/local/lib/python3.7/dist-packages (from python-dateutil<3.0.0,>=2.1->botocore<1.21.0,>=1.20.44->boto3) (1.15.0)\n",
            "\u001b[31mERROR: requests 2.23.0 has requirement urllib3!=1.25.0,!=1.25.1,<1.26,>=1.21.1, but you'll have urllib3 1.26.4 which is incompatible.\u001b[0m\n",
            "\u001b[31mERROR: datascience 0.10.6 has requirement folium==0.2.1, but you'll have folium 0.8.3 which is incompatible.\u001b[0m\n",
            "Installing collected packages: jmespath, urllib3, botocore, s3transfer, boto3\n",
            "  Found existing installation: urllib3 1.24.3\n",
            "    Uninstalling urllib3-1.24.3:\n",
            "      Successfully uninstalled urllib3-1.24.3\n",
            "Successfully installed boto3-1.17.44 botocore-1.20.44 jmespath-0.10.0 s3transfer-0.3.6 urllib3-1.26.4\n",
            "Collecting baker\n",
            "  Downloading https://files.pythonhosted.org/packages/6f/c4/bb9e5572b33493b8bc79251f157eb96462334ae67482309db8af56f5204f/Baker-1.3-py2.py3-none-any.whl\n",
            "Installing collected packages: baker\n",
            "Successfully installed baker-1.3\n",
            "Collecting logzero\n",
            "  Downloading https://files.pythonhosted.org/packages/b3/68/aa714515d65090fcbcc9a1f3debd5a644b14aad11e59238f42f00bd4b298/logzero-1.7.0-py2.py3-none-any.whl\n",
            "Installing collected packages: logzero\n",
            "Successfully installed logzero-1.7.0\n",
            "Requirement already satisfied: lmdb in /usr/local/lib/python3.7/dist-packages (0.99)\n"
          ],
          "name": "stdout"
        }
      ]
    },
    {
      "cell_type": "markdown",
      "metadata": {
        "id": "wAuSv9yg7JZm"
      },
      "source": [
        "# **Set up Drive**"
      ]
    },
    {
      "cell_type": "code",
      "metadata": {
        "id": "WDKmP0RC7Pyh",
        "colab": {
          "base_uri": "https://localhost:8080/"
        },
        "outputId": "cdae6508-f705-45e3-b6ca-f4acf6e4ef46"
      },
      "source": [
        "from google.colab import drive\n",
        "\n",
        "# set path where to mount drive\n",
        "drive_path = \"/content/drive\"\n",
        "\n",
        "# mount drive\n",
        "drive.mount(drive_path)"
      ],
      "execution_count": null,
      "outputs": [
        {
          "output_type": "stream",
          "text": [
            "Mounted at /content/drive\n"
          ],
          "name": "stdout"
        }
      ]
    },
    {
      "cell_type": "markdown",
      "metadata": {
        "id": "0v3MIZPA7DgR"
      },
      "source": [
        "# **Set base path**"
      ]
    },
    {
      "cell_type": "code",
      "metadata": {
        "id": "wupfaC-Q7Bqr"
      },
      "source": [
        "import os\n",
        "\n",
        "# set base path (if using google Drive)\n",
        "base_path = os.path.join(drive_path, \"MyDrive/thesis\")"
      ],
      "execution_count": null,
      "outputs": []
    },
    {
      "cell_type": "markdown",
      "metadata": {
        "id": "KjoXL4yTtoaf"
      },
      "source": [
        "# **Clone git repository**"
      ]
    },
    {
      "cell_type": "code",
      "metadata": {
        "id": "s7JyAPR94N3h",
        "colab": {
          "base_uri": "https://localhost:8080/"
        },
        "outputId": "c1f54613-98cd-4a62-c806-259467fec656"
      },
      "source": [
        "!rm -r /content/Automatic-Malware-Signature-Generation"
      ],
      "execution_count": null,
      "outputs": [
        {
          "output_type": "stream",
          "text": [
            "rm: cannot remove '/content/Automatic-Malware-Signature-Generation': No such file or directory\n"
          ],
          "name": "stdout"
        }
      ]
    },
    {
      "cell_type": "code",
      "metadata": {
        "id": "larIRy-Qtov5",
        "colab": {
          "base_uri": "https://localhost:8080/"
        },
        "outputId": "cc2469f5-4b4b-4b84-eff1-51b418f49444"
      },
      "source": [
        "!git clone https://github.com/cmikke97/Automatic-Malware-Signature-Generation.git"
      ],
      "execution_count": null,
      "outputs": [
        {
          "output_type": "stream",
          "text": [
            "Cloning into 'Automatic-Malware-Signature-Generation'...\n",
            "remote: Enumerating objects: 456, done.\u001b[K\n",
            "remote: Counting objects: 100% (456/456), done.\u001b[K\n",
            "remote: Compressing objects: 100% (433/433), done.\u001b[K\n",
            "Receiving objects: 100% (456/456), 127.15 KiB | 6.05 MiB/s, done.\n",
            "remote: Total 456 (delta 143), reused 0 (delta 0), pack-reused 0\u001b[K\n",
            "Resolving deltas: 100% (143/143), done.\n"
          ],
          "name": "stdout"
        }
      ]
    },
    {
      "cell_type": "markdown",
      "metadata": {
        "id": "Mync8kntvQ-y"
      },
      "source": [
        "## **Download SOREL20M dataset**"
      ]
    },
    {
      "cell_type": "code",
      "metadata": {
        "id": "yBDUz51V3x1N"
      },
      "source": [
        "# set destination dir\n",
        "dataset_dir = \"/content/Dataset\""
      ],
      "execution_count": null,
      "outputs": []
    },
    {
      "cell_type": "code",
      "metadata": {
        "colab": {
          "base_uri": "https://localhost:8080/"
        },
        "id": "K0luA_KOvNhH",
        "outputId": "f2877d35-2264-4985-dab1-31ee6022d287"
      },
      "source": [
        "# execute downloader\n",
        "!python Automatic-Malware-Signature-Generation/src/DatasetDownloader/sorel20mDownloader.py sorel20m_download $dataset_dir"
      ],
      "execution_count": null,
      "outputs": [
        {
          "output_type": "stream",
          "text": [
            "Now downloading 09-DEC-2020/processed-data/meta.db from s3 bucket..\n",
            "100% 3788979200/3788979200 [00:33<00:00, 113085201.69it/s]\n",
            "1/3 done.\n",
            "Now downloading 09-DEC-2020/processed-data/ember_features/lock.mdb from s3 bucket..\n",
            "100% 65664/65664 [00:00<00:00, 181365.99it/s]\n",
            "2/3 done.\n",
            "Now downloading 09-DEC-2020/processed-data/ember_features/data.mdb from s3 bucket..\n",
            "100% 76865335296/76865335296 [15:58<00:00, 80169334.77it/s]\n",
            "3/3 done.\n"
          ],
          "name": "stdout"
        }
      ]
    },
    {
      "cell_type": "markdown",
      "metadata": {
        "id": "jDYdfgDHUzCL"
      },
      "source": [
        "# **Configuration**\n",
        "\n",
        "To change configuration change values in local copy of \"config.py\" located at \"/content/Automatic-Malware-Signature-Generation/src/DetectionBase/config.py\"."
      ]
    },
    {
      "cell_type": "markdown",
      "metadata": {
        "id": "C57HCdFmVT5M"
      },
      "source": [
        "# **Train Network**"
      ]
    },
    {
      "cell_type": "code",
      "metadata": {
        "id": "b4DqjR2d4Qzh",
        "colab": {
          "base_uri": "https://localhost:8080/"
        },
        "outputId": "12e22f9c-9aeb-4c80-b5bf-8a283af6a265"
      },
      "source": [
        "os.chdir(\"/content/Automatic-Malware-Signature-Generation/src/DetectionBase\")\n",
        "\n",
        "import config\n",
        "\n",
        "checkpoint_base_dir = config.checkpoint_dir\n",
        "\n",
        "# for the number of configured runs\n",
        "for i in range(config.runs):\n",
        "    checkpoint_dir = os.path.join(checkpoint_base_dir, str(i))\n",
        "    remove_missing_features = os.path.join(base_path, \"Dataset/09-DEC-2020/processed-data/shas_missing_ember_features.json\")\n",
        "\n",
        "    # execute train.py script\n",
        "    !python train.py train_network --checkpoint_dir $checkpoint_dir --remove_missing_features $remove_missing_features"
      ],
      "execution_count": null,
      "outputs": [
        {
          "output_type": "stream",
          "text": [
            "\u001b[32m[I 210404 10:27:39 train:151]\u001b[39m ...instantiating network\n",
            "\u001b[32m[I 210404 10:27:46 dataset:151]\u001b[39m Opening Dataset at /content/Dataset/09-DEC-2020/processed-data/meta.db in train mode.\n",
            "\u001b[32m[I 210404 10:27:47 dataset:161]\u001b[39m 400000 samples loaded.\n",
            "\u001b[32m[I 210404 10:27:47 dataset:209]\u001b[39m Trying to load shas to ignore from /content/drive/MyDrive/thesis/Dataset/09-DEC-2020/processed-data/shas_missing_ember_features.json...\n",
            "\u001b[32m[I 210404 10:27:51 dataset:220]\u001b[39m Dataset now has 393310 samples.\n",
            "\u001b[32m[I 210404 10:27:52 dataset:151]\u001b[39m Opening Dataset at /content/Dataset/09-DEC-2020/processed-data/meta.db in validation mode.\n",
            "\u001b[32m[I 210404 10:28:25 dataset:161]\u001b[39m 76923 samples loaded.\n",
            "\u001b[32m[I 210404 10:28:25 dataset:209]\u001b[39m Trying to load shas to ignore from /content/drive/MyDrive/thesis/Dataset/09-DEC-2020/processed-data/shas_missing_ember_features.json...\n",
            "\u001b[32m[I 210404 10:28:26 dataset:220]\u001b[39m Dataset now has 75118 samples.\n",
            "\u001b[32m[I 210404 10:28:26 train:188]\u001b[39m Starting training..\n",
            " Epoch: 1/10 49/49 total loss: -1.847 malware loss:  0.440 count loss:-23.222 tags loss:  0.356 | total mean: -1.138 malware mean:  0.561 count mean:-17.391 tags mean:  0.406\n",
            "   Val: 1/10 10/10 total loss: -0.494 malware loss:  0.781 count loss:-12.998 tags loss:  0.254 | total mean: -0.151 malware mean:  0.662 count mean: -8.352 tags mean:  0.218\n",
            " Epoch: 2/10 49/49 total loss: -1.945 malware loss:  0.311 count loss:-22.816 tags loss:  0.259 | total mean: -1.768 malware mean:  0.383 count mean:-21.786 tags mean:  0.281\n",
            "   Val: 2/10 10/10 total loss: -0.763 malware loss:  0.619 count loss:-14.053 tags loss:  0.232 | total mean: -0.379 malware mean:  0.526 count mean: -9.240 tags mean:  0.188\n",
            " Epoch: 3/10 49/49 total loss: -2.242 malware loss:  0.203 count loss:-24.683 tags loss:  0.234 | total mean: -1.893 malware mean:  0.318 count mean:-22.374 tags mean:  0.260\n",
            "   Val: 3/10 10/10 total loss: -0.932 malware loss:  0.501 count loss:-14.560 tags loss:  0.222 | total mean: -0.599 malware mean:  0.400 count mean:-10.162 tags mean:  0.174\n",
            " Epoch: 4/10 49/49 total loss: -1.394 malware loss:  0.366 count loss:-17.841 tags loss:  0.241 | total mean: -1.918 malware mean:  0.300 count mean:-22.434 tags mean:  0.252\n",
            "   Val: 4/10 10/10 total loss: -0.704 malware loss:  0.639 count loss:-13.690 tags loss:  0.253 | total mean: -0.333 malware mean:  0.534 count mean: -8.870 tags mean:  0.204\n",
            " Epoch: 5/10 49/49 total loss: -2.854 malware loss:  0.129 count loss:-30.098 tags loss:  0.277 | total mean: -1.991 malware mean:  0.268 count mean:-22.836 tags mean:  0.248\n",
            "   Val: 5/10 10/10 total loss: -0.846 malware loss:  0.571 count loss:-14.390 tags loss:  0.221 | total mean: -0.433 malware mean:  0.509 count mean: -9.600 tags mean:  0.180\n",
            " Epoch: 6/10 49/49 total loss: -1.663 malware loss:  0.280 count loss:-19.670 tags loss:  0.236 | total mean: -2.020 malware mean:  0.240 count mean:-22.841 tags mean:  0.238\n",
            "   Val: 6/10 10/10 total loss: -1.154 malware loss:  0.359 count loss:-15.334 tags loss:  0.204 | total mean: -0.685 malware mean:  0.338 count mean:-10.394 tags mean:  0.165\n",
            " Epoch: 7/10 49/49 total loss: -1.806 malware loss:  0.207 count loss:-20.321 tags loss:  0.186 | total mean: -2.066 malware mean:  0.211 count mean:-23.000 tags mean:  0.227\n",
            "   Val: 7/10 10/10 total loss: -0.944 malware loss:  0.533 count loss:-14.990 tags loss:  0.213 | total mean: -0.505 malware mean:  0.478 count mean:-10.005 tags mean:  0.170\n",
            " Epoch: 8/10 49/49 total loss: -2.222 malware loss:  0.185 count loss:-24.292 tags loss:  0.220 | total mean: -2.053 malware mean:  0.224 count mean:-22.998 tags mean:  0.226\n",
            "   Val: 8/10 10/10 total loss: -1.009 malware loss:  0.488 count loss:-15.183 tags loss:  0.208 | total mean: -0.541 malware mean:  0.448 count mean:-10.057 tags mean:  0.166\n",
            " Epoch: 9/10 49/49 total loss: -2.133 malware loss:  0.177 count loss:-23.312 tags loss:  0.217 | total mean: -2.100 malware mean:  0.196 count mean:-23.163 tags mean:  0.209\n",
            "   Val: 9/10 10/10 total loss: -0.966 malware loss:  0.531 count loss:-15.184 tags loss:  0.207 | total mean: -0.544 malware mean:  0.464 count mean:-10.240 tags mean:  0.162\n",
            " Epoch: 10/10 49/49 total loss: -2.081 malware loss:  0.129 count loss:-22.286 tags loss:  0.193 | total mean: -2.043 malware mean:  0.230 count mean:-22.938 tags mean:  0.212\n",
            "   Val: 10/10 10/10 total loss: -1.147 malware loss:  0.386 count loss:-15.533 tags loss:  0.205 | total mean: -0.746 malware mean:  0.314 count mean:-10.759 tags mean:  0.157\n",
            "\u001b[32m[I 210404 17:51:23 train:285]\u001b[39m ...done\n",
            "\u001b[32m[I 210404 17:51:28 train:151]\u001b[39m ...instantiating network\n",
            "\u001b[32m[I 210404 17:51:35 dataset:151]\u001b[39m Opening Dataset at /content/Dataset/09-DEC-2020/processed-data/meta.db in train mode.\n",
            "\u001b[32m[I 210404 17:51:36 dataset:161]\u001b[39m 400000 samples loaded.\n",
            "\u001b[32m[I 210404 17:51:36 dataset:209]\u001b[39m Trying to load shas to ignore from /content/drive/MyDrive/thesis/Dataset/09-DEC-2020/processed-data/shas_missing_ember_features.json...\n",
            "\u001b[32m[I 210404 17:51:37 dataset:220]\u001b[39m Dataset now has 393310 samples.\n",
            "\u001b[32m[I 210404 17:51:38 dataset:151]\u001b[39m Opening Dataset at /content/Dataset/09-DEC-2020/processed-data/meta.db in validation mode.\n",
            "\u001b[32m[I 210404 17:52:11 dataset:161]\u001b[39m 76923 samples loaded.\n",
            "\u001b[32m[I 210404 17:52:11 dataset:209]\u001b[39m Trying to load shas to ignore from /content/drive/MyDrive/thesis/Dataset/09-DEC-2020/processed-data/shas_missing_ember_features.json...\n",
            "\u001b[32m[I 210404 17:52:12 dataset:220]\u001b[39m Dataset now has 75118 samples.\n",
            "\u001b[32m[I 210404 17:52:12 train:188]\u001b[39m Starting training..\n",
            " Epoch: 1/10 49/49 total loss: -2.116 malware loss:  0.336 count loss:-24.858 tags loss:  0.334 | total mean: -1.344 malware mean:  0.509 count mean:-18.930 tags mean:  0.409\n",
            "   Val: 1/10 10/10 total loss: -0.517 malware loss:  0.735 count loss:-12.769 tags loss:  0.251 | total mean: -0.163 malware mean:  0.617 count mean: -8.012 tags mean:  0.208\n",
            " Epoch: 2/10 49/49 total loss: -1.514 malware loss:  0.394 count loss:-19.291 tags loss:  0.214 | total mean: -1.795 malware mean:  0.368 count mean:-21.907 tags mean:  0.280\n",
            "   Val: 2/10 10/10 total loss: -0.774 malware loss:  0.623 count loss:-14.198 tags loss:  0.227 | total mean: -0.369 malware mean:  0.543 count mean: -9.302 tags mean:  0.185\n",
            " Epoch: 3/10 49/49 total loss: -1.823 malware loss:  0.336 count loss:-21.830 tags loss:  0.239 | total mean: -1.904 malware mean:  0.311 count mean:-22.417 tags mean:  0.263\n",
            "   Val: 3/10 10/10 total loss: -0.911 malware loss:  0.521 count loss:-14.544 tags loss:  0.222 | total mean: -0.506 malware mean:  0.454 count mean: -9.775 tags mean:  0.179\n",
            " Epoch: 4/10 49/49 total loss: -1.602 malware loss:  0.323 count loss:-19.489 tags loss:  0.242 | total mean: -1.917 malware mean:  0.300 count mean:-22.427 tags mean:  0.258\n",
            "   Val: 4/10 10/10 total loss: -0.820 malware loss:  0.594 count loss:-14.365 tags loss:  0.230 | total mean: -0.474 malware mean:  0.485 count mean: -9.768 tags mean:  0.182\n",
            " Epoch: 5/10 49/49 total loss: -2.170 malware loss:  0.225 count loss:-24.220 tags loss:  0.270 | total mean: -2.003 malware mean:  0.255 count mean:-22.824 tags mean:  0.249\n",
            "   Val: 5/10 10/10 total loss: -0.768 malware loss:  0.630 count loss:-14.213 tags loss:  0.232 | total mean: -0.322 malware mean:  0.575 count mean: -9.157 tags mean:  0.189\n",
            " Epoch: 6/10 49/49 total loss: -1.836 malware loss:  0.117 count loss:-19.723 tags loss:  0.199 | total mean: -2.021 malware mean:  0.237 count mean:-22.825 tags mean:  0.243\n",
            "   Val: 6/10 10/10 total loss: -1.195 malware loss:  0.322 count loss:-15.369 tags loss:  0.204 | total mean: -0.777 malware mean:  0.282 count mean:-10.749 tags mean:  0.160\n",
            " Epoch: 7/10 49/49 total loss: -1.874 malware loss:  0.253 count loss:-21.486 tags loss:  0.221 | total mean: -2.046 malware mean:  0.225 count mean:-22.948 tags mean:  0.232\n",
            "   Val: 7/10 10/10 total loss: -1.007 malware loss:  0.481 count loss:-15.089 tags loss:  0.210 | total mean: -0.520 malware mean:  0.453 count mean: -9.897 tags mean:  0.169\n",
            " Epoch: 8/10 49/49 total loss: -2.162 malware loss:  0.157 count loss:-23.405 tags loss:  0.210 | total mean: -2.063 malware mean:  0.218 count mean:-23.034 tags mean:  0.225\n",
            "   Val: 8/10 10/10 total loss: -1.163 malware loss:  0.377 count loss:-15.608 tags loss:  0.209 | total mean: -0.704 malware mean:  0.337 count mean:-10.580 tags mean:  0.162\n",
            " Epoch: 9/10 49/49 total loss: -1.929 malware loss:  0.180 count loss:-21.304 tags loss:  0.221 | total mean: -2.060 malware mean:  0.218 count mean:-22.989 tags mean:  0.218\n",
            "   Val: 9/10 10/10 total loss: -0.990 malware loss:  0.498 count loss:-15.098 tags loss:  0.221 | total mean: -0.636 malware mean:  0.394 count mean:-10.467 tags mean:  0.170\n",
            " Epoch: 10/10 49/49 total loss: -2.350 malware loss:  0.194 count loss:-25.684 tags loss:  0.247 | total mean: -2.092 malware mean:  0.204 count mean:-23.182 tags mean:  0.213\n",
            "   Val: 10/10 10/10 total loss: -1.166 malware loss:  0.388 count loss:-15.746 tags loss:  0.208 | total mean: -0.701 malware mean:  0.350 count mean:-10.669 tags mean:  0.157\n",
            "\u001b[32m[I 210405 01:14:49 train:285]\u001b[39m ...done\n"
          ],
          "name": "stdout"
        }
      ]
    },
    {
      "cell_type": "markdown",
      "metadata": {
        "id": "WIfHj0MiVait"
      },
      "source": [
        "# **Evaluate Network**"
      ]
    },
    {
      "cell_type": "code",
      "metadata": {
        "id": "13gb_oga5Pmb",
        "colab": {
          "base_uri": "https://localhost:8080/"
        },
        "outputId": "76ad6fb1-12f8-4ad4-fa43-bc2f666e5808"
      },
      "source": [
        "import json\n",
        "\n",
        "results_base_dir = config.results_dir\n",
        "\n",
        "#instantiate results_files dictionary\n",
        "results_files = {}\n",
        "\n",
        "# for the number of configured runs\n",
        "for i in range(config.runs):\n",
        "    # add file path to results_files dictionary (used for plotting results)\n",
        "    results_files[\"run_id_\" + str(i)] = os.path.join(results_base_dir, str(i), \"results.csv\");\n",
        "\n",
        "    results_dir = os.path.join(results_base_dir, str(i))\n",
        "    checkpoint_file = os.path.join(config.checkpoint_dir, str(i), \"epoch_10.pt\")\n",
        "    remove_missing_features = os.path.join(base_path, \"Dataset/09-DEC-2020/processed-data/shas_missing_ember_features.json\")\n",
        "\n",
        "    # execute evaluate.py script\n",
        "    !python evaluate.py evaluate_network --results_dir $results_dir --checkpoint_file $checkpoint_file --remove_missing_features $remove_missing_features\n",
        "    \n",
        "# create and open the results.json file in write mode\n",
        "with open(os.path.join(results_base_dir, \"results.json\"), \"w\") as output_file:\n",
        "    # save results_files dictionary as a json file\n",
        "    json.dump(results_files, output_file)"
      ],
      "execution_count": null,
      "outputs": [
        {
          "output_type": "stream",
          "text": [
            "\u001b[32m[I 210405 01:15:02 dataset:151]\u001b[39m Opening Dataset at /content/Dataset/09-DEC-2020/processed-data/meta.db in test mode.\n",
            "\u001b[32m[I 210405 01:15:44 dataset:161]\u001b[39m 123077 samples loaded.\n",
            "\u001b[32m[I 210405 01:15:44 dataset:209]\u001b[39m Trying to load shas to ignore from /content/drive/MyDrive/thesis/Dataset/09-DEC-2020/processed-data/shas_missing_ember_features.json...\n",
            "\u001b[32m[I 210405 01:15:44 dataset:220]\u001b[39m Dataset now has 120760 samples.\n",
            "\u001b[32m[I 210405 01:15:45 evaluate:127]\u001b[39m ...running network evaluation\n",
            "100% 15/15 [13:37<00:00, 54.51s/it]\n",
            "...done\n",
            "\u001b[32m[I 210405 01:29:35 dataset:151]\u001b[39m Opening Dataset at /content/Dataset/09-DEC-2020/processed-data/meta.db in test mode.\n",
            "\u001b[32m[I 210405 01:30:16 dataset:161]\u001b[39m 123077 samples loaded.\n",
            "\u001b[32m[I 210405 01:30:16 dataset:209]\u001b[39m Trying to load shas to ignore from /content/drive/MyDrive/thesis/Dataset/09-DEC-2020/processed-data/shas_missing_ember_features.json...\n",
            "\u001b[32m[I 210405 01:30:17 dataset:220]\u001b[39m Dataset now has 120760 samples.\n",
            "\u001b[32m[I 210405 01:30:17 evaluate:127]\u001b[39m ...running network evaluation\n",
            "100% 15/15 [13:33<00:00, 54.26s/it]\n",
            "...done\n"
          ],
          "name": "stdout"
        }
      ]
    },
    {
      "cell_type": "markdown",
      "metadata": {
        "id": "3nQYueE3Vg6M"
      },
      "source": [
        "# **Plot Results**"
      ]
    },
    {
      "cell_type": "code",
      "metadata": {
        "id": "iDrmsxic589d"
      },
      "source": [
        "# for the number of configured runs\n",
        "for i in range(config.runs):\n",
        "    results_file = os.path.join(results_base_dir, str(i), \"results.csv\")\n",
        "    output_filename = os.path.join(results_base_dir, str(i), \"results.png\")\n",
        "\n",
        "    # execute plot.py to plot per-tag results for the single run\n",
        "    !python plots.py plot_tag_result --results_file $results_file --output_filename $output_filename\n",
        "\n",
        "\n",
        "run_to_filename_json = os.path.join(results_base_dir, \"results.json\")\n",
        "output_filename = os.path.join(results_base_dir, \"results.png\")\n",
        "tag_to_plot = 'malware'\n",
        "\n",
        "# execute plot.py to plot the model results mean and confidence (at least 2 runs are needed)\n",
        "!python plots.py plot_roc_distribution_for_tag --run_to_filename_json $run_to_filename_json --output_filename $output_filename --tag_to_plot $tag_to_plot"
      ],
      "execution_count": null,
      "outputs": []
    }
  ]
}
